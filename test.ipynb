{
 "cells": [
  {
   "cell_type": "code",
   "execution_count": 10,
   "metadata": {},
   "outputs": [],
   "source": [
    "import os\n",
    "from dotenv import load_dotenv\n",
    "load_dotenv('.env')\n",
    "api_key : str = os.getenv('API_KEY')\n",
    "url = 'http://api.openweathermap.org/data/2.5/weather?q={}&appid={}'\n",
    "\n",
    "        "
   ]
  },
  {
   "cell_type": "code",
   "execution_count": 11,
   "metadata": {},
   "outputs": [
    {
     "data": {
      "text/plain": [
       "{'coord': {'lon': 11.4333, 'lat': 44.4667},\n",
       " 'weather': [{'id': 800,\n",
       "   'main': 'Clear',\n",
       "   'description': 'clear sky',\n",
       "   'icon': '01d'}],\n",
       " 'base': 'stations',\n",
       " 'main': {'temp': 292.47,\n",
       "  'feels_like': 292.05,\n",
       "  'temp_min': 290.39,\n",
       "  'temp_max': 294.5,\n",
       "  'pressure': 1021,\n",
       "  'humidity': 61},\n",
       " 'visibility': 10000,\n",
       " 'wind': {'speed': 2.06, 'deg': 0},\n",
       " 'clouds': {'all': 0},\n",
       " 'dt': 1683194940,\n",
       " 'sys': {'type': 2,\n",
       "  'id': 2004497,\n",
       "  'country': 'IT',\n",
       "  'sunrise': 1683172870,\n",
       "  'sunset': 1683224453},\n",
       " 'timezone': 7200,\n",
       " 'id': 3181927,\n",
       " 'name': 'Bologna',\n",
       " 'cod': 200}"
      ]
     },
     "execution_count": 11,
     "metadata": {},
     "output_type": "execute_result"
    }
   ],
   "source": [
    "import requests\n",
    "\n",
    "city = 'Bologna'\n",
    "\n",
    "result = requests.get(url.format(city, api_key))     \n",
    "json = result.json()\n",
    "json"
   ]
  },
  {
   "cell_type": "code",
   "execution_count": 12,
   "metadata": {},
   "outputs": [
    {
     "data": {
      "text/plain": [
       "2.06"
      ]
     },
     "execution_count": 12,
     "metadata": {},
     "output_type": "execute_result"
    }
   ],
   "source": [
    "json['wind']['speed']"
   ]
  },
  {
   "cell_type": "code",
   "execution_count": 7,
   "metadata": {},
   "outputs": [
    {
     "data": {
      "text/plain": [
       "292.08"
      ]
     },
     "execution_count": 7,
     "metadata": {},
     "output_type": "execute_result"
    }
   ],
   "source": [
    "json['main']['temp']"
   ]
  },
  {
   "cell_type": "code",
   "execution_count": 14,
   "metadata": {},
   "outputs": [
    {
     "data": {
      "text/plain": [
       "0"
      ]
     },
     "execution_count": 14,
     "metadata": {},
     "output_type": "execute_result"
    }
   ],
   "source": [
    "json['clouds']['all']"
   ]
  },
  {
   "cell_type": "code",
   "execution_count": 13,
   "metadata": {},
   "outputs": [
    {
     "data": {
      "text/plain": [
       "292.47"
      ]
     },
     "execution_count": 13,
     "metadata": {},
     "output_type": "execute_result"
    }
   ],
   "source": [
    "temp = json['main']['temp']\n",
    "temp"
   ]
  },
  {
   "cell_type": "code",
   "execution_count": null,
   "metadata": {},
   "outputs": [],
   "source": []
  }
 ],
 "metadata": {
  "kernelspec": {
   "display_name": "Python 3",
   "language": "python",
   "name": "python3"
  },
  "language_info": {
   "codemirror_mode": {
    "name": "ipython",
    "version": 3
   },
   "file_extension": ".py",
   "mimetype": "text/x-python",
   "name": "python",
   "nbconvert_exporter": "python",
   "pygments_lexer": "ipython3",
   "version": "3.11.1"
  },
  "orig_nbformat": 4
 },
 "nbformat": 4,
 "nbformat_minor": 2
}
